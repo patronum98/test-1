{
  "nbformat": 4,
  "nbformat_minor": 0,
  "metadata": {
    "colab": {
      "name": "KoBART-chitchat.ipynb",
      "provenance": [],
      "collapsed_sections": []
    },
    "kernelspec": {
      "name": "python3",
      "display_name": "Python 3"
    },
    "accelerator": "GPU"
  },
  "cells": [
    {
      "cell_type": "code",
      "metadata": {
        "colab": {
          "base_uri": "https://localhost:8080/"
        },
        "id": "qy6rzE3uZfJQ",
        "outputId": "6f183a40-3bb9-45cc-f989-7973461ebf48"
      },
      "source": [
        "!nvidia-smi"
      ],
      "execution_count": null,
      "outputs": []
    },
    {
      "cell_type": "code",
      "metadata": {
        "colab": {
          "base_uri": "https://localhost:8080/"
        },
        "id": "OsXJJajPeJ7M",
        "outputId": "c9a3108a-9c9f-40b0-b6f9-6ecb952c22f1"
      },
      "source": [
        "# 현재 CUDA Version에 맞는 Pytorch 설치\n",
        "!pip install torch==1.8.0+cu111 torchvision==0.9.0+cu111 torchaudio===0.8.0 -f https://download.pytorch.org/whl/torch_stable.html pytorch_lightning==1.2.3"
      ],
      "execution_count": null,
      "outputs": []
    },
    {
      "cell_type": "code",
      "metadata": {
        "colab": {
          "base_uri": "https://localhost:8080/"
        },
        "id": "gwv3kJTedw1E",
        "outputId": "a350dafa-365c-4c0f-aeb0-088b98dfac64"
      },
      "source": [
        "!pip install git+https://github.com/SKT-AI/KoBART#egg=kobart"
      ],
      "execution_count": null,
      "outputs": []
    },
    {
      "cell_type": "code",
      "metadata": {
        "colab": {
          "base_uri": "https://localhost:8080/"
        },
        "id": "CG68aqVzgsjR",
        "outputId": "a736788f-efcb-465d-9d75-7a3dda2c5398"
      },
      "source": [
        "!git clone --recurse-submodules https://github.com/haven-jeon/KoBART-chatbot.git"
      ],
      "execution_count": null,
      "outputs": []
    },
    {
      "cell_type": "code",
      "metadata": {
        "colab": {
          "base_uri": "https://localhost:8080/"
        },
        "id": "coqJMwfSgvMn",
        "outputId": "8fff1336-e296-4efc-d5a4-277366eee373"
      },
      "source": [
        "%cd KoBART-chatbot"
      ],
      "execution_count": null,
      "outputs": []
    },
    {
      "cell_type": "code",
      "metadata": {
        "colab": {
          "base_uri": "https://localhost:8080/",
          "height": 74
        },
        "id": "iNBhBrMzg_r7",
        "outputId": "2d4a5041-b527-4634-f2c7-73ad23a0402a"
      },
      "source": [
        "from kobart import get_pytorch_kobart_model, get_kobart_tokenizer\n",
        "get_kobart_tokenizer(\".\")\n",
        "get_pytorch_kobart_model(cachedir=\".\")"
      ],
      "execution_count": null,
      "outputs": []
    },
    {
      "cell_type": "code",
      "metadata": {
        "colab": {
          "base_uri": "https://localhost:8080/"
        },
        "id": "XBsNZ6IAg3hI",
        "outputId": "5f618963-7c94-4dbe-f681-197ce1c9a750"
      },
      "source": [
        "!python kobart_chit_chat.py  --gradient_clip_val 1.0 --max_epochs 3 --default_root_dir logs --model_path kobart_from_pretrained  --tokenizer_path emji_tokenizer --chat --gpus 1"
      ],
      "execution_count": null,
      "outputs": []
    }
  ]
}